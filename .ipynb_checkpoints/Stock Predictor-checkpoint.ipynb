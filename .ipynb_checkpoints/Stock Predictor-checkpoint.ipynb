{
 "cells": [
  {
   "cell_type": "code",
   "execution_count": 1,
   "id": "3cf2c5fe",
   "metadata": {},
   "outputs": [],
   "source": [
    "import pandas as pd"
   ]
  },
  {
   "cell_type": "code",
   "execution_count": 2,
   "id": "7052806d",
   "metadata": {},
   "outputs": [],
   "source": [
    "nabil =pd.read_csv('Nabil.csv')"
   ]
  },
  {
   "cell_type": "code",
   "execution_count": 3,
   "id": "f1053d02",
   "metadata": {},
   "outputs": [],
   "source": [
    "length=len(nabil)"
   ]
  },
  {
   "cell_type": "code",
   "execution_count": 4,
   "id": "a95dd041",
   "metadata": {},
   "outputs": [],
   "source": [
    "training=int(0.8*length)\n",
    "test=int(length-training)"
   ]
  },
  {
   "cell_type": "code",
   "execution_count": 5,
   "id": "9252fbf6",
   "metadata": {},
   "outputs": [
    {
     "name": "stdout",
     "output_type": "stream",
     "text": [
      "1793 449 2242\n"
     ]
    }
   ],
   "source": [
    "print(training,test,length)"
   ]
  },
  {
   "cell_type": "code",
   "execution_count": 6,
   "id": "a3fc3654",
   "metadata": {},
   "outputs": [
    {
     "data": {
      "text/plain": [
       "2242"
      ]
     },
     "execution_count": 6,
     "metadata": {},
     "output_type": "execute_result"
    }
   ],
   "source": [
    "1793+449"
   ]
  },
  {
   "cell_type": "code",
   "execution_count": 7,
   "id": "86fa226e",
   "metadata": {},
   "outputs": [],
   "source": [
    "training_data=nabil[0:training-1]\n",
    "test_data=nabil[training:test-1]"
   ]
  },
  {
   "cell_type": "code",
   "execution_count": 8,
   "id": "9cbdf549",
   "metadata": {},
   "outputs": [
    {
     "data": {
      "text/html": [
       "<div>\n",
       "<style scoped>\n",
       "    .dataframe tbody tr th:only-of-type {\n",
       "        vertical-align: middle;\n",
       "    }\n",
       "\n",
       "    .dataframe tbody tr th {\n",
       "        vertical-align: top;\n",
       "    }\n",
       "\n",
       "    .dataframe thead th {\n",
       "        text-align: right;\n",
       "    }\n",
       "</style>\n",
       "<table border=\"1\" class=\"dataframe\">\n",
       "  <thead>\n",
       "    <tr style=\"text-align: right;\">\n",
       "      <th></th>\n",
       "      <th>S.N.</th>\n",
       "      <th>Date</th>\n",
       "      <th>Total Transactions</th>\n",
       "      <th>Total Traded  Shares</th>\n",
       "      <th>Total Traded  Amount</th>\n",
       "      <th>Max Price</th>\n",
       "      <th>Min. Price</th>\n",
       "      <th>Close Price</th>\n",
       "    </tr>\n",
       "  </thead>\n",
       "  <tbody>\n",
       "    <tr>\n",
       "      <th>0</th>\n",
       "      <td>1</td>\n",
       "      <td>2021-11-25</td>\n",
       "      <td>961</td>\n",
       "      <td>64950</td>\n",
       "      <td>100167376.7</td>\n",
       "      <td>1550.0</td>\n",
       "      <td>1535.0</td>\n",
       "      <td>1538.0</td>\n",
       "    </tr>\n",
       "    <tr>\n",
       "      <th>1</th>\n",
       "      <td>2</td>\n",
       "      <td>2021-11-24</td>\n",
       "      <td>808</td>\n",
       "      <td>54975</td>\n",
       "      <td>84660876.9</td>\n",
       "      <td>1550.0</td>\n",
       "      <td>1527.0</td>\n",
       "      <td>1545.0</td>\n",
       "    </tr>\n",
       "    <tr>\n",
       "      <th>2</th>\n",
       "      <td>3</td>\n",
       "      <td>2021-11-23</td>\n",
       "      <td>964</td>\n",
       "      <td>62286</td>\n",
       "      <td>95971223.5</td>\n",
       "      <td>1550.0</td>\n",
       "      <td>1532.0</td>\n",
       "      <td>1537.0</td>\n",
       "    </tr>\n",
       "    <tr>\n",
       "      <th>3</th>\n",
       "      <td>4</td>\n",
       "      <td>2021-11-22</td>\n",
       "      <td>1007</td>\n",
       "      <td>80745</td>\n",
       "      <td>124845767.5</td>\n",
       "      <td>1554.9</td>\n",
       "      <td>1540.0</td>\n",
       "      <td>1546.0</td>\n",
       "    </tr>\n",
       "    <tr>\n",
       "      <th>4</th>\n",
       "      <td>5</td>\n",
       "      <td>2021-11-21</td>\n",
       "      <td>1112</td>\n",
       "      <td>75509</td>\n",
       "      <td>116771963.4</td>\n",
       "      <td>1565.0</td>\n",
       "      <td>1538.0</td>\n",
       "      <td>1544.0</td>\n",
       "    </tr>\n",
       "    <tr>\n",
       "      <th>...</th>\n",
       "      <td>...</td>\n",
       "      <td>...</td>\n",
       "      <td>...</td>\n",
       "      <td>...</td>\n",
       "      <td>...</td>\n",
       "      <td>...</td>\n",
       "      <td>...</td>\n",
       "      <td>...</td>\n",
       "    </tr>\n",
       "    <tr>\n",
       "      <th>1787</th>\n",
       "      <td>1788</td>\n",
       "      <td>2014-01-05</td>\n",
       "      <td>16</td>\n",
       "      <td>5113</td>\n",
       "      <td>10798683.0</td>\n",
       "      <td>2125.0</td>\n",
       "      <td>2100.0</td>\n",
       "      <td>2100.0</td>\n",
       "    </tr>\n",
       "    <tr>\n",
       "      <th>1788</th>\n",
       "      <td>1789</td>\n",
       "      <td>2014-01-02</td>\n",
       "      <td>41</td>\n",
       "      <td>10110</td>\n",
       "      <td>21280226.0</td>\n",
       "      <td>2150.0</td>\n",
       "      <td>2090.0</td>\n",
       "      <td>2125.0</td>\n",
       "    </tr>\n",
       "    <tr>\n",
       "      <th>1789</th>\n",
       "      <td>1790</td>\n",
       "      <td>2014-01-01</td>\n",
       "      <td>5</td>\n",
       "      <td>433</td>\n",
       "      <td>931898.0</td>\n",
       "      <td>2180.0</td>\n",
       "      <td>2142.0</td>\n",
       "      <td>2151.0</td>\n",
       "    </tr>\n",
       "    <tr>\n",
       "      <th>1790</th>\n",
       "      <td>1791</td>\n",
       "      <td>2013-12-31</td>\n",
       "      <td>19</td>\n",
       "      <td>2064</td>\n",
       "      <td>4556705.0</td>\n",
       "      <td>2250.0</td>\n",
       "      <td>2200.0</td>\n",
       "      <td>2210.0</td>\n",
       "    </tr>\n",
       "    <tr>\n",
       "      <th>1791</th>\n",
       "      <td>1792</td>\n",
       "      <td>2013-12-29</td>\n",
       "      <td>22</td>\n",
       "      <td>3809</td>\n",
       "      <td>8532901.0</td>\n",
       "      <td>2275.0</td>\n",
       "      <td>2220.0</td>\n",
       "      <td>2250.0</td>\n",
       "    </tr>\n",
       "  </tbody>\n",
       "</table>\n",
       "<p>1792 rows × 8 columns</p>\n",
       "</div>"
      ],
      "text/plain": [
       "      S.N.        Date  Total Transactions  Total Traded  Shares  \\\n",
       "0        1  2021-11-25                 961                 64950   \n",
       "1        2  2021-11-24                 808                 54975   \n",
       "2        3  2021-11-23                 964                 62286   \n",
       "3        4  2021-11-22                1007                 80745   \n",
       "4        5  2021-11-21                1112                 75509   \n",
       "...    ...         ...                 ...                   ...   \n",
       "1787  1788  2014-01-05                  16                  5113   \n",
       "1788  1789  2014-01-02                  41                 10110   \n",
       "1789  1790  2014-01-01                   5                   433   \n",
       "1790  1791  2013-12-31                  19                  2064   \n",
       "1791  1792  2013-12-29                  22                  3809   \n",
       "\n",
       "      Total Traded  Amount  Max Price   Min. Price  Close Price  \n",
       "0              100167376.7      1550.0      1535.0       1538.0  \n",
       "1               84660876.9      1550.0      1527.0       1545.0  \n",
       "2               95971223.5      1550.0      1532.0       1537.0  \n",
       "3              124845767.5      1554.9      1540.0       1546.0  \n",
       "4              116771963.4      1565.0      1538.0       1544.0  \n",
       "...                    ...         ...         ...          ...  \n",
       "1787            10798683.0      2125.0      2100.0       2100.0  \n",
       "1788            21280226.0      2150.0      2090.0       2125.0  \n",
       "1789              931898.0      2180.0      2142.0       2151.0  \n",
       "1790             4556705.0      2250.0      2200.0       2210.0  \n",
       "1791             8532901.0      2275.0      2220.0       2250.0  \n",
       "\n",
       "[1792 rows x 8 columns]"
      ]
     },
     "execution_count": 8,
     "metadata": {},
     "output_type": "execute_result"
    }
   ],
   "source": [
    "training_data"
   ]
  },
  {
   "cell_type": "code",
   "execution_count": null,
   "id": "6f953c1f",
   "metadata": {},
   "outputs": [],
   "source": []
  }
 ],
 "metadata": {
  "kernelspec": {
   "display_name": "Python 3 (ipykernel)",
   "language": "python",
   "name": "python3"
  },
  "language_info": {
   "codemirror_mode": {
    "name": "ipython",
    "version": 3
   },
   "file_extension": ".py",
   "mimetype": "text/x-python",
   "name": "python",
   "nbconvert_exporter": "python",
   "pygments_lexer": "ipython3",
   "version": "3.9.9"
  }
 },
 "nbformat": 4,
 "nbformat_minor": 5
}
